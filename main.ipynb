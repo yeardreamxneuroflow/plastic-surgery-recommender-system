{
 "cells": [
  {
   "cell_type": "code",
   "execution_count": 2,
   "metadata": {},
   "outputs": [
    {
     "name": "stdout",
     "output_type": "stream",
     "text": [
      "Requirement already satisfied: mediapipe in /opt/homebrew/Caskroom/miniconda/base/envs/psrs/lib/python3.9/site-packages (0.10.7)\n",
      "Requirement already satisfied: absl-py in /opt/homebrew/Caskroom/miniconda/base/envs/psrs/lib/python3.9/site-packages (from mediapipe) (2.0.0)\n",
      "Requirement already satisfied: attrs>=19.1.0 in /opt/homebrew/Caskroom/miniconda/base/envs/psrs/lib/python3.9/site-packages (from mediapipe) (23.1.0)\n",
      "Requirement already satisfied: flatbuffers>=2.0 in /opt/homebrew/Caskroom/miniconda/base/envs/psrs/lib/python3.9/site-packages (from mediapipe) (23.5.26)\n",
      "Requirement already satisfied: matplotlib in /opt/homebrew/Caskroom/miniconda/base/envs/psrs/lib/python3.9/site-packages (from mediapipe) (3.8.1)\n",
      "Requirement already satisfied: numpy in /opt/homebrew/Caskroom/miniconda/base/envs/psrs/lib/python3.9/site-packages (from mediapipe) (1.26.1)\n",
      "Requirement already satisfied: opencv-contrib-python in /opt/homebrew/Caskroom/miniconda/base/envs/psrs/lib/python3.9/site-packages (from mediapipe) (4.8.1.78)\n",
      "Requirement already satisfied: protobuf<4,>=3.11 in /opt/homebrew/Caskroom/miniconda/base/envs/psrs/lib/python3.9/site-packages (from mediapipe) (3.20.3)\n",
      "Requirement already satisfied: sounddevice>=0.4.4 in /opt/homebrew/Caskroom/miniconda/base/envs/psrs/lib/python3.9/site-packages (from mediapipe) (0.4.6)\n",
      "Requirement already satisfied: CFFI>=1.0 in /opt/homebrew/Caskroom/miniconda/base/envs/psrs/lib/python3.9/site-packages (from sounddevice>=0.4.4->mediapipe) (1.16.0)\n",
      "Requirement already satisfied: contourpy>=1.0.1 in /opt/homebrew/Caskroom/miniconda/base/envs/psrs/lib/python3.9/site-packages (from matplotlib->mediapipe) (1.2.0)\n",
      "Requirement already satisfied: cycler>=0.10 in /opt/homebrew/Caskroom/miniconda/base/envs/psrs/lib/python3.9/site-packages (from matplotlib->mediapipe) (0.12.1)\n",
      "Requirement already satisfied: fonttools>=4.22.0 in /opt/homebrew/Caskroom/miniconda/base/envs/psrs/lib/python3.9/site-packages (from matplotlib->mediapipe) (4.44.0)\n",
      "Requirement already satisfied: kiwisolver>=1.3.1 in /opt/homebrew/Caskroom/miniconda/base/envs/psrs/lib/python3.9/site-packages (from matplotlib->mediapipe) (1.4.5)\n",
      "Requirement already satisfied: packaging>=20.0 in /opt/homebrew/Caskroom/miniconda/base/envs/psrs/lib/python3.9/site-packages (from matplotlib->mediapipe) (23.2)\n",
      "Requirement already satisfied: pillow>=8 in /opt/homebrew/Caskroom/miniconda/base/envs/psrs/lib/python3.9/site-packages (from matplotlib->mediapipe) (10.1.0)\n",
      "Requirement already satisfied: pyparsing>=2.3.1 in /opt/homebrew/Caskroom/miniconda/base/envs/psrs/lib/python3.9/site-packages (from matplotlib->mediapipe) (3.1.1)\n",
      "Requirement already satisfied: python-dateutil>=2.7 in /opt/homebrew/Caskroom/miniconda/base/envs/psrs/lib/python3.9/site-packages (from matplotlib->mediapipe) (2.8.2)\n",
      "Requirement already satisfied: importlib-resources>=3.2.0 in /opt/homebrew/Caskroom/miniconda/base/envs/psrs/lib/python3.9/site-packages (from matplotlib->mediapipe) (6.1.1)\n",
      "Requirement already satisfied: pycparser in /opt/homebrew/Caskroom/miniconda/base/envs/psrs/lib/python3.9/site-packages (from CFFI>=1.0->sounddevice>=0.4.4->mediapipe) (2.21)\n",
      "Requirement already satisfied: zipp>=3.1.0 in /opt/homebrew/Caskroom/miniconda/base/envs/psrs/lib/python3.9/site-packages (from importlib-resources>=3.2.0->matplotlib->mediapipe) (3.17.0)\n",
      "Requirement already satisfied: six>=1.5 in /opt/homebrew/Caskroom/miniconda/base/envs/psrs/lib/python3.9/site-packages (from python-dateutil>=2.7->matplotlib->mediapipe) (1.16.0)\n",
      "Note: you may need to restart the kernel to use updated packages.\n",
      "Note: you may need to restart the kernel to use updated packages.\n"
     ]
    }
   ],
   "source": [
    "%pip install mediapipe\n",
    "%pip list --format=freeze > requirements.txt"
   ]
  },
  {
   "cell_type": "code",
   "execution_count": 1,
   "metadata": {},
   "outputs": [],
   "source": [
    "import mediapipe as mp\n",
    "from mediapipe.tasks import python\n",
    "from mediapipe.tasks.python import vision"
   ]
  },
  {
   "cell_type": "code",
   "execution_count": 2,
   "metadata": {},
   "outputs": [],
   "source": [
    "# Load model from 'https://storage.googleapis.com/mediapipe-models/face_landmarker/face_landmarker/float16/latest/face_landmarker.task'\n",
    "trained_model_path = './models/face_landmarker.task'"
   ]
  },
  {
   "cell_type": "code",
   "execution_count": 3,
   "metadata": {},
   "outputs": [],
   "source": [
    "BaseOptions = mp.tasks.BaseOptions\n",
    "FaceLandmarker = mp.tasks.vision.FaceLandmarker\n",
    "FaceLandmarkerOptions = mp.tasks.vision.FaceLandmarkerOptions\n",
    "VisionRunningMode = mp.tasks.vision.RunningMode"
   ]
  },
  {
   "cell_type": "code",
   "execution_count": 4,
   "metadata": {},
   "outputs": [],
   "source": [
    "options = FaceLandmarkerOptions(\n",
    "    base_options=BaseOptions(model_asset_path=trained_model_path),\n",
    "    running_mode=VisionRunningMode.IMAGE,\n",
    ")"
   ]
  },
  {
   "cell_type": "code",
   "execution_count": 7,
   "metadata": {},
   "outputs": [
    {
     "name": "stderr",
     "output_type": "stream",
     "text": [
      "WARNING: All log messages before absl::InitializeLog() is called are written to STDERR\n",
      "W0000 00:00:1699596911.959815       1 face_landmarker_graph.cc:169] Sets FaceBlendshapesGraph acceleration to xnnpack by default.\n",
      "INFO: Created TensorFlow Lite XNNPACK delegate for CPU.\n"
     ]
    }
   ],
   "source": [
    "with FaceLandmarker.create_from_options(options) as landmarker:\n",
    "    pass"
   ]
  },
  {
   "cell_type": "code",
   "execution_count": 5,
   "metadata": {},
   "outputs": [
    {
     "name": "stderr",
     "output_type": "stream",
     "text": [
      "WARNING: All log messages before absl::InitializeLog() is called are written to STDERR\n",
      "W0000 00:00:1699693745.665740       1 face_landmarker_graph.cc:169] Sets FaceBlendshapesGraph acceleration to xnnpack by default.\n",
      "INFO: Created TensorFlow Lite XNNPACK delegate for CPU.\n"
     ]
    },
    {
     "data": {
      "text/plain": [
       "<mediapipe.tasks.python.vision.face_landmarker.FaceLandmarker at 0x160be2fd0>"
      ]
     },
     "execution_count": 5,
     "metadata": {},
     "output_type": "execute_result"
    }
   ],
   "source": [
    "detector = FaceLandmarker.create_from_options(options)\n",
    "detector"
   ]
  },
  {
   "cell_type": "code",
   "execution_count": 8,
   "metadata": {},
   "outputs": [
    {
     "name": "stdout",
     "output_type": "stream",
     "text": [
      "  % Total    % Received % Xferd  Average Speed   Time    Time     Time  Current\n",
      "                                 Dload  Upload   Total   Spent    Left  Speed\n",
      "100 1069k  100 1069k    0     0  8343k      0 --:--:-- --:--:-- --:--:-- 8762k\n"
     ]
    }
   ],
   "source": [
    "!curl \"https://storage.googleapis.com/mediapipe-assets/business-person.png\" -O\n",
    "%mv business-person dataset"
   ]
  },
  {
   "cell_type": "code",
   "execution_count": 6,
   "metadata": {},
   "outputs": [
    {
     "data": {
      "text/plain": [
       "<mediapipe.python._framework_bindings.image.Image at 0x161017db0>"
      ]
     },
     "execution_count": 6,
     "metadata": {},
     "output_type": "execute_result"
    }
   ],
   "source": [
    "mp_image = mp.Image.create_from_file('./dataset/business-person.png')\n",
    "mp_image"
   ]
  },
  {
   "cell_type": "code",
   "execution_count": 7,
   "metadata": {},
   "outputs": [
    {
     "data": {
      "text/plain": [
       "FaceLandmarkerResult(face_landmarks=[[NormalizedLandmark(x=0.5364603996276855, y=0.2776332199573517, z=-0.022420182824134827, visibility=0.0, presence=0.0), NormalizedLandmark(x=0.53795325756073, y=0.25370556116104126, z=-0.06193271651864052, visibility=0.0, presence=0.0), NormalizedLandmark(x=0.5362605452537537, y=0.2598152756690979, z=-0.028677919879555702, visibility=0.0, presence=0.0), NormalizedLandmark(x=0.5250566601753235, y=0.22575010359287262, z=-0.05383102223277092, visibility=0.0, presence=0.0), NormalizedLandmark(x=0.5375298857688904, y=0.24548472464084625, z=-0.0676577091217041, visibility=0.0, presence=0.0), NormalizedLandmark(x=0.5360850095748901, y=0.23402294516563416, z=-0.06557535380125046, visibility=0.0, presence=0.0), NormalizedLandmark(x=0.5319846868515015, y=0.20557335019111633, z=-0.04199567809700966, visibility=0.0, presence=0.0), NormalizedLandmark(x=0.4446960687637329, y=0.20130586624145508, z=-0.0022310432977974415, visibility=0.0, presence=0.0), NormalizedLandmark(x=0.5296657085418701, y=0.18684442341327667, z=-0.03948657959699631, visibility=0.0, presence=0.0), NormalizedLandmark(x=0.5289310216903687, y=0.17644527554512024, z=-0.04536538943648338, visibility=0.0, presence=0.0), NormalizedLandmark(x=0.523631751537323, y=0.1310640573501587, z=-0.04471202939748764, visibility=0.0, presence=0.0), NormalizedLandmark(x=0.5365056991577148, y=0.28010880947113037, z=-0.0198859591037035, visibility=0.0, presence=0.0), NormalizedLandmark(x=0.5364140272140503, y=0.2823960781097412, z=-0.015539231710135937, visibility=0.0, presence=0.0), NormalizedLandmark(x=0.5360210537910461, y=0.28409263491630554, z=-0.009730921126902103, visibility=0.0, presence=0.0), NormalizedLandmark(x=0.5359945893287659, y=0.284107506275177, z=-0.009574424475431442, visibility=0.0, presence=0.0), NormalizedLandmark(x=0.5363774299621582, y=0.28739845752716064, z=-0.010783599689602852, visibility=0.0, presence=0.0), NormalizedLandmark(x=0.5368520021438599, y=0.291401207447052, z=-0.012756425887346268, visibility=0.0, presence=0.0), NormalizedLandmark(x=0.5368965268135071, y=0.29564040899276733, z=-0.010848216712474823, visibility=0.0, presence=0.0), NormalizedLandmark(x=0.5378283262252808, y=0.3039816915988922, z=0.0012096008285880089, visibility=0.0, presence=0.0), NormalizedLandmark(x=0.53758305311203, y=0.25745004415512085, z=-0.05478355661034584, visibility=0.0, presence=0.0), NormalizedLandmark(x=0.525585412979126, y=0.2569500207901001, z=-0.03900318592786789, visibility=0.0, presence=0.0), NormalizedLandmark(x=0.39183560013771057, y=0.1692938506603241, z=0.03779652714729309, visibility=0.0, presence=0.0), NormalizedLandmark(x=0.4801017940044403, y=0.2079377919435501, z=-0.009820370934903622, visibility=0.0, presence=0.0), NormalizedLandmark(x=0.46792709827423096, y=0.2091037929058075, z=-0.010053004138171673, visibility=0.0, presence=0.0), NormalizedLandmark(x=0.4558262228965759, y=0.20923881232738495, z=-0.008032634854316711, visibility=0.0, presence=0.0), NormalizedLandmark(x=0.43961572647094727, y=0.2043045163154602, z=-0.00015328825975302607, visibility=0.0, presence=0.0), NormalizedLandmark(x=0.49029120802879333, y=0.20612162351608276, z=-0.00816552434116602, visibility=0.0, presence=0.0), NormalizedLandmark(x=0.45837610960006714, y=0.18515560030937195, z=-0.019629044458270073, visibility=0.0, presence=0.0), NormalizedLandmark(x=0.4731845259666443, y=0.18608281016349792, z=-0.01857486553490162, visibility=0.0, presence=0.0), NormalizedLandmark(x=0.4456719160079956, y=0.1870221495628357, z=-0.01662861742079258, visibility=0.0, presence=0.0), NormalizedLandmark(x=0.4378953278064728, y=0.19047479331493378, z=-0.012030757032334805, visibility=0.0, presence=0.0), NormalizedLandmark(x=0.429375559091568, y=0.21002843976020813, z=0.006342859007418156, visibility=0.0, presence=0.0), NormalizedLandmark(x=0.49472957849502563, y=0.32047510147094727, z=0.01717354916036129, visibility=0.0, presence=0.0), NormalizedLandmark(x=0.4398205280303955, y=0.19868138432502747, z=0.0006464136531576514, visibility=0.0, presence=0.0), NormalizedLandmark(x=0.3895666003227234, y=0.20587855577468872, z=0.05392858758568764, visibility=0.0, presence=0.0), NormalizedLandmark(x=0.4140137732028961, y=0.2047407031059265, z=0.015183083713054657, visibility=0.0, presence=0.0), NormalizedLandmark(x=0.47275692224502563, y=0.24384276568889618, z=-0.012329396791756153, visibility=0.0, presence=0.0), NormalizedLandmark(x=0.5210784673690796, y=0.2763676643371582, z=-0.022817101329565048, visibility=0.0, presence=0.0), NormalizedLandmark(x=0.521737277507782, y=0.2825780510902405, z=-0.014929494820535183, visibility=0.0, presence=0.0), NormalizedLandmark(x=0.5061185956001282, y=0.2783241271972656, z=-0.016367118805646896, visibility=0.0, presence=0.0), NormalizedLandmark(x=0.4951675236225128, y=0.2797899842262268, z=-0.00701978150755167, visibility=0.0, presence=0.0), NormalizedLandmark(x=0.5091122984886169, y=0.28255847096443176, z=-0.010825970210134983, visibility=0.0, presence=0.0), NormalizedLandmark(x=0.4986148178577423, y=0.28249359130859375, z=-0.0023982105776667595, visibility=0.0, presence=0.0), NormalizedLandmark(x=0.4786447584629059, y=0.29035288095474243, z=0.0143363568931818, visibility=0.0, presence=0.0), NormalizedLandmark(x=0.5283900499343872, y=0.25388455390930176, z=-0.06155550479888916, visibility=0.0, presence=0.0), NormalizedLandmark(x=0.5267701745033264, y=0.24572479724884033, z=-0.06708576530218124, visibility=0.0, presence=0.0), NormalizedLandmark(x=0.4203895330429077, y=0.18577629327774048, z=-0.014127821661531925, visibility=0.0, presence=0.0), NormalizedLandmark(x=0.49668118357658386, y=0.2223229855298996, z=-0.017884233966469765, visibility=0.0, presence=0.0), NormalizedLandmark(x=0.49965113401412964, y=0.2500387132167816, z=-0.035009682178497314, visibility=0.0, presence=0.0), NormalizedLandmark(x=0.4982467591762543, y=0.2452440857887268, z=-0.03238657861948013, visibility=0.0, presence=0.0), NormalizedLandmark(x=0.434502512216568, y=0.24308845400810242, z=-0.0008326838142238557, visibility=0.0, presence=0.0), NormalizedLandmark(x=0.5258516669273376, y=0.2350642830133438, z=-0.06271401047706604, visibility=0.0, presence=0.0), NormalizedLandmark(x=0.4497237205505371, y=0.17799898982048035, z=-0.03384791687130928, visibility=0.0, presence=0.0), NormalizedLandmark(x=0.4323101043701172, y=0.18031682074069977, z=-0.025996549054980278, visibility=0.0, presence=0.0), NormalizedLandmark(x=0.40504637360572815, y=0.15513956546783447, z=0.011612479574978352, visibility=0.0, presence=0.0), NormalizedLandmark(x=0.5047500729560852, y=0.18722131848335266, z=-0.03811328858137131, visibility=0.0, presence=0.0), NormalizedLandmark(x=0.48597830533981323, y=0.18980467319488525, z=-0.013484126888215542, visibility=0.0, presence=0.0), NormalizedLandmark(x=0.4676710069179535, y=0.2827979326248169, z=0.014081469736993313, visibility=0.0, presence=0.0), NormalizedLandmark(x=0.4042097330093384, y=0.28394749760627747, z=0.10994596034288406, visibility=0.0, presence=0.0), NormalizedLandmark(x=0.5081177353858948, y=0.25443771481513977, z=-0.028431041166186333, visibility=0.0, presence=0.0), NormalizedLandmark(x=0.5173709392547607, y=0.25660842657089233, z=-0.02770274505019188, visibility=0.0, presence=0.0), NormalizedLandmark(x=0.47889474034309387, y=0.2811604142189026, z=0.014528856612741947, visibility=0.0, presence=0.0), NormalizedLandmark(x=0.48170578479766846, y=0.2815019190311432, z=0.012110209092497826, visibility=0.0, presence=0.0), NormalizedLandmark(x=0.4252033531665802, y=0.17509150505065918, z=-0.022424055263400078, visibility=0.0, presence=0.0), NormalizedLandmark(x=0.49857422709465027, y=0.25294896960258484, z=-0.02737189084291458, visibility=0.0, presence=0.0), NormalizedLandmark(x=0.47369301319122314, y=0.18020886182785034, z=-0.038193922489881516, visibility=0.0, presence=0.0), NormalizedLandmark(x=0.4711281657218933, y=0.17360466718673706, z=-0.042969707399606705, visibility=0.0, presence=0.0), NormalizedLandmark(x=0.45553112030029297, y=0.13657301664352417, z=-0.03402847796678543, visibility=0.0, presence=0.0), NormalizedLandmark(x=0.41570937633514404, y=0.16491757333278656, z=-0.008193249814212322, visibility=0.0, presence=0.0), NormalizedLandmark(x=0.4647105634212494, y=0.15377601981163025, z=-0.03960069268941879, visibility=0.0, presence=0.0), NormalizedLandmark(x=0.41234755516052246, y=0.181937575340271, z=-0.005899748299270868, visibility=0.0, presence=0.0), NormalizedLandmark(x=0.40230655670166016, y=0.17622636258602142, z=0.01452783215790987, visibility=0.0, presence=0.0), NormalizedLandmark(x=0.5212135910987854, y=0.27967846393585205, z=-0.020061800256371498, visibility=0.0, presence=0.0), NormalizedLandmark(x=0.5077244639396667, y=0.28056126832962036, z=-0.013888447545468807, visibility=0.0, presence=0.0), NormalizedLandmark(x=0.4969007968902588, y=0.28098225593566895, z=-0.005494169425219297, visibility=0.0, presence=0.0), NormalizedLandmark(x=0.5106397867202759, y=0.25573647022247314, z=-0.025473907589912415, visibility=0.0, presence=0.0), NormalizedLandmark(x=0.48036259412765503, y=0.28129735589027405, z=0.013263529166579247, visibility=0.0, presence=0.0), NormalizedLandmark(x=0.48769649863243103, y=0.2839035093784332, z=0.007017775904387236, visibility=0.0, presence=0.0), NormalizedLandmark(x=0.48342689871788025, y=0.2817933261394501, z=0.011770699173212051, visibility=0.0, presence=0.0), NormalizedLandmark(x=0.5145024657249451, y=0.2526985704898834, z=-0.04593583568930626, visibility=0.0, presence=0.0), NormalizedLandmark(x=0.49988093972206116, y=0.283503919839859, z=3.0550283554475754e-05, visibility=0.0, presence=0.0), NormalizedLandmark(x=0.5105072259902954, y=0.2838098108768463, z=-0.005412626080214977, visibility=0.0, presence=0.0), NormalizedLandmark(x=0.5225176811218262, y=0.2841816544532776, z=-0.009386984631419182, visibility=0.0, presence=0.0), NormalizedLandmark(x=0.5215030312538147, y=0.3045867681503296, z=0.0011241310276091099, visibility=0.0, presence=0.0), NormalizedLandmark(x=0.5214298367500305, y=0.2955917716026306, z=-0.010887819342315197, visibility=0.0, presence=0.0), NormalizedLandmark(x=0.5214380025863647, y=0.29118606448173523, z=-0.012774464674293995, visibility=0.0, presence=0.0), NormalizedLandmark(x=0.521773636341095, y=0.2874499261379242, z=-0.010475646704435349, visibility=0.0, presence=0.0), NormalizedLandmark(x=0.5223522186279297, y=0.2841942608356476, z=-0.009185456670820713, visibility=0.0, presence=0.0), NormalizedLandmark(x=0.49967965483665466, y=0.2835060954093933, z=0.0003506118373479694, visibility=0.0, presence=0.0), NormalizedLandmark(x=0.49789369106292725, y=0.2847401797771454, z=-0.001051773433573544, visibility=0.0, presence=0.0), NormalizedLandmark(x=0.49621883034706116, y=0.28664541244506836, z=-0.0019253436475992203, visibility=0.0, presence=0.0), NormalizedLandmark(x=0.4951126277446747, y=0.28889238834381104, z=0.0006776135414838791, visibility=0.0, presence=0.0), NormalizedLandmark(x=0.4838655889034271, y=0.27187579870224, z=-0.006221443880349398, visibility=0.0, presence=0.0), NormalizedLandmark(x=0.38789093494415283, y=0.24149882793426514, z=0.1136179193854332, visibility=0.0, presence=0.0), NormalizedLandmark(x=0.537056028842926, y=0.2590087354183197, z=-0.03819820284843445, visibility=0.0, presence=0.0), NormalizedLandmark(x=0.4918217658996582, y=0.28291523456573486, z=0.007092362269759178, visibility=0.0, presence=0.0), NormalizedLandmark(x=0.48976844549179077, y=0.2834734320640564, z=0.006511444225907326, visibility=0.0, presence=0.0), NormalizedLandmark(x=0.5209829807281494, y=0.25952327251434326, z=-0.026690101251006126, visibility=0.0, presence=0.0), NormalizedLandmark(x=0.5019870400428772, y=0.25704705715179443, z=-0.016574162989854813, visibility=0.0, presence=0.0), NormalizedLandmark(x=0.5192366242408752, y=0.2582068145275116, z=-0.027644211426377296, visibility=0.0, presence=0.0), NormalizedLandmark(x=0.4841568171977997, y=0.22712180018424988, z=-0.013440045528113842, visibility=0.0, presence=0.0), NormalizedLandmark(x=0.46387988328933716, y=0.23298560082912445, z=-0.010498840361833572, visibility=0.0, presence=0.0), NormalizedLandmark(x=0.4957856237888336, y=0.24846269190311432, z=-0.02476581186056137, visibility=0.0, presence=0.0), NormalizedLandmark(x=0.4256192445755005, y=0.1440117359161377, z=-0.013562913052737713, visibility=0.0, presence=0.0), NormalizedLandmark(x=0.43597176671028137, y=0.1570892482995987, z=-0.025448745116591454, visibility=0.0, presence=0.0), NormalizedLandmark(x=0.4450643062591553, y=0.17154264450073242, z=-0.03425442799925804, visibility=0.0, presence=0.0), NormalizedLandmark(x=0.4904538691043854, y=0.29637283086776733, z=0.009544510394334793, visibility=0.0, presence=0.0), NormalizedLandmark(x=0.4999966621398926, y=0.17705272138118744, z=-0.046124543994665146, visibility=0.0, presence=0.0), NormalizedLandmark(x=0.4939521551132202, y=0.15291571617126465, z=-0.04607348516583443, visibility=0.0, presence=0.0), NormalizedLandmark(x=0.4873660206794739, y=0.132635235786438, z=-0.04428592696785927, visibility=0.0, presence=0.0), NormalizedLandmark(x=0.44574499130249023, y=0.20777234435081482, z=-0.004075613338500261, visibility=0.0, presence=0.0), NormalizedLandmark(x=0.41653159260749817, y=0.21612156927585602, z=0.013403626158833504, visibility=0.0, presence=0.0), NormalizedLandmark(x=0.49682214856147766, y=0.20425376296043396, z=-0.006691280286759138, visibility=0.0, presence=0.0), NormalizedLandmark(x=0.42651957273483276, y=0.19478154182434082, z=-0.003317244118079543, visibility=0.0, presence=0.0), NormalizedLandmark(x=0.5049380660057068, y=0.21730586886405945, z=-0.02288993075489998, visibility=0.0, presence=0.0), NormalizedLandmark(x=0.5071011185646057, y=0.24775256216526031, z=-0.04697781801223755, visibility=0.0, presence=0.0), NormalizedLandmark(x=0.4031771421432495, y=0.2225235253572464, z=0.02698436751961708, visibility=0.0, presence=0.0), NormalizedLandmark(x=0.42614123225212097, y=0.22211578488349915, z=0.005034003406763077, visibility=0.0, presence=0.0), NormalizedLandmark(x=0.4425658583641052, y=0.22517286241054535, z=-0.003594005946069956, visibility=0.0, presence=0.0), NormalizedLandmark(x=0.4660845100879669, y=0.22334785759449005, z=-0.0075263031758368015, visibility=0.0, presence=0.0), NormalizedLandmark(x=0.483067125082016, y=0.2195545732975006, z=-0.00944716390222311, visibility=0.0, presence=0.0), NormalizedLandmark(x=0.49513140320777893, y=0.2159164696931839, z=-0.012838130816817284, visibility=0.0, presence=0.0), NormalizedLandmark(x=0.5208606719970703, y=0.20770008862018585, z=-0.03782934322953224, visibility=0.0, presence=0.0), NormalizedLandmark(x=0.4058901071548462, y=0.2398754358291626, z=0.02846165932714939, visibility=0.0, presence=0.0), NormalizedLandmark(x=0.4162583649158478, y=0.19431334733963013, z=0.00035044472315348685, visibility=0.0, presence=0.0), NormalizedLandmark(x=0.5317643880844116, y=0.2573469281196594, z=-0.05467909574508667, visibility=0.0, presence=0.0), NormalizedLandmark(x=0.49904653429985046, y=0.23117291927337646, z=-0.02035309188067913, visibility=0.0, presence=0.0), NormalizedLandmark(x=0.3826141953468323, y=0.20388367772102356, z=0.09247780591249466, visibility=0.0, presence=0.0), NormalizedLandmark(x=0.5043940544128418, y=0.21193009614944458, z=-0.015260779298841953, visibility=0.0, presence=0.0), NormalizedLandmark(x=0.4938881993293762, y=0.24825286865234375, z=-0.01226388942450285, visibility=0.0, presence=0.0), NormalizedLandmark(x=0.43431800603866577, y=0.19933882355690002, z=0.0025999434292316437, visibility=0.0, presence=0.0), NormalizedLandmark(x=0.5059243440628052, y=0.2418839931488037, z=-0.04372803494334221, visibility=0.0, presence=0.0), NormalizedLandmark(x=0.3941297233104706, y=0.2622133195400238, z=0.114661805331707, visibility=0.0, presence=0.0), NormalizedLandmark(x=0.496295303106308, y=0.20150792598724365, z=-0.0047002327628433704, visibility=0.0, presence=0.0), NormalizedLandmark(x=0.5156335830688477, y=0.23758184909820557, z=-0.055713679641485214, visibility=0.0, presence=0.0), NormalizedLandmark(x=0.4360775947570801, y=0.3039976954460144, z=0.0543551966547966, visibility=0.0, presence=0.0), NormalizedLandmark(x=0.4365306496620178, y=0.31324243545532227, z=0.07807282358407974, visibility=0.0, presence=0.0), NormalizedLandmark(x=0.3931952118873596, y=0.2416452169418335, z=0.07047001272439957, visibility=0.0, presence=0.0), NormalizedLandmark(x=0.41846996545791626, y=0.2933761477470398, z=0.0647779256105423, visibility=0.0, presence=0.0), NormalizedLandmark(x=0.3952922224998474, y=0.1896085888147354, z=0.03695078194141388, visibility=0.0, presence=0.0), NormalizedLandmark(x=0.49348729848861694, y=0.32896101474761963, z=0.025857288390398026, visibility=0.0, presence=0.0), NormalizedLandmark(x=0.5325257778167725, y=0.25892192125320435, z=-0.037630386650562286, visibility=0.0, presence=0.0), NormalizedLandmark(x=0.48811447620391846, y=0.23713412880897522, z=-0.015061605721712112, visibility=0.0, presence=0.0), NormalizedLandmark(x=0.40322422981262207, y=0.2059163600206375, z=0.0262752678245306, visibility=0.0, presence=0.0), NormalizedLandmark(x=0.4569411277770996, y=0.20443502068519592, z=-0.007614419795572758, visibility=0.0, presence=0.0), NormalizedLandmark(x=0.46742212772369385, y=0.20459216833114624, z=-0.009581741876900196, visibility=0.0, presence=0.0), NormalizedLandmark(x=0.4862235188484192, y=0.2851170599460602, z=0.009187090210616589, visibility=0.0, presence=0.0), NormalizedLandmark(x=0.4083079695701599, y=0.256850928068161, z=0.03771783038973808, visibility=0.0, presence=0.0), NormalizedLandmark(x=0.5164971351623535, y=0.3377233147621155, z=0.0331079363822937, visibility=0.0, presence=0.0), NormalizedLandmark(x=0.47730088233947754, y=0.3294970989227295, z=0.052148837596178055, visibility=0.0, presence=0.0), NormalizedLandmark(x=0.4586808979511261, y=0.32318824529647827, z=0.06369312107563019, visibility=0.0, presence=0.0), NormalizedLandmark(x=0.5261484980583191, y=0.15220122039318085, z=-0.04611450061202049, visibility=0.0, presence=0.0), NormalizedLandmark(x=0.5402313470840454, y=0.33723610639572144, z=0.03175783157348633, visibility=0.0, presence=0.0), NormalizedLandmark(x=0.4775626063346863, y=0.20347179472446442, z=-0.009433423168957233, visibility=0.0, presence=0.0), NormalizedLandmark(x=0.48720216751098633, y=0.20225200057029724, z=-0.007354161702096462, visibility=0.0, presence=0.0), NormalizedLandmark(x=0.4937352240085602, y=0.20193974673748016, z=-0.004997937940061092, visibility=0.0, presence=0.0), NormalizedLandmark(x=0.4067482054233551, y=0.19234922528266907, z=0.011016463860869408, visibility=0.0, presence=0.0), NormalizedLandmark(x=0.4833524823188782, y=0.19458411633968353, z=-0.01072775386273861, visibility=0.0, presence=0.0), NormalizedLandmark(x=0.472040057182312, y=0.19146078824996948, z=-0.013879476115107536, visibility=0.0, presence=0.0), NormalizedLandmark(x=0.461166650056839, y=0.19103467464447021, z=-0.014304504729807377, visibility=0.0, presence=0.0), NormalizedLandmark(x=0.4510441720485687, y=0.19263026118278503, z=-0.012058814987540245, visibility=0.0, presence=0.0), NormalizedLandmark(x=0.44520092010498047, y=0.19503480195999146, z=-0.008318601176142693, visibility=0.0, presence=0.0), NormalizedLandmark(x=0.385194331407547, y=0.18473882973194122, z=0.06710926443338394, visibility=0.0, presence=0.0), NormalizedLandmark(x=0.44974690675735474, y=0.2031029462814331, z=-0.004773631691932678, visibility=0.0, presence=0.0), NormalizedLandmark(x=0.5360181331634521, y=0.26583561301231384, z=-0.023872654885053635, visibility=0.0, presence=0.0), NormalizedLandmark(x=0.49744728207588196, y=0.26817014813423157, z=-0.013890402391552925, visibility=0.0, presence=0.0), NormalizedLandmark(x=0.5085468888282776, y=0.2534281611442566, z=-0.03371172025799751, visibility=0.0, presence=0.0), NormalizedLandmark(x=0.5201981663703918, y=0.26628923416137695, z=-0.024094775319099426, visibility=0.0, presence=0.0), NormalizedLandmark(x=0.5303803086280823, y=0.19543839991092682, z=-0.0361347459256649, visibility=0.0, presence=0.0), NormalizedLandmark(x=0.45578059554100037, y=0.3140868544578552, z=0.04680649936199188, visibility=0.0, presence=0.0), NormalizedLandmark(x=0.4739692509174347, y=0.32172727584838867, z=0.03728504106402397, visibility=0.0, presence=0.0), NormalizedLandmark(x=0.5159705281257629, y=0.3330017030239105, z=0.016393184661865234, visibility=0.0, presence=0.0), NormalizedLandmark(x=0.4190048575401306, y=0.30107125639915466, z=0.0954929068684578, visibility=0.0, presence=0.0), NormalizedLandmark(x=0.49222224950790405, y=0.19888482987880707, z=-0.007438567467033863, visibility=0.0, presence=0.0), NormalizedLandmark(x=0.5146235227584839, y=0.22097201645374298, z=-0.03810930252075195, visibility=0.0, presence=0.0), NormalizedLandmark(x=0.5406343340873718, y=0.332600474357605, z=0.015632251277565956, visibility=0.0, presence=0.0), NormalizedLandmark(x=0.4961870610713959, y=0.3346106708049774, z=0.0401286706328392, visibility=0.0, presence=0.0), NormalizedLandmark(x=0.39817166328430176, y=0.2602927088737488, z=0.07454628497362137, visibility=0.0, presence=0.0), NormalizedLandmark(x=0.5103253722190857, y=0.28403446078300476, z=-0.005147116724401712, visibility=0.0, presence=0.0), NormalizedLandmark(x=0.5087839365005493, y=0.28618165850639343, z=-0.0068245925940573215, visibility=0.0, presence=0.0), NormalizedLandmark(x=0.5077590346336365, y=0.2892332077026367, z=-0.008035004138946533, visibility=0.0, presence=0.0), NormalizedLandmark(x=0.5071978569030762, y=0.29315534234046936, z=-0.005712283309549093, visibility=0.0, presence=0.0), NormalizedLandmark(x=0.5046625137329102, y=0.3015795052051544, z=0.004036756232380867, visibility=0.0, presence=0.0), NormalizedLandmark(x=0.4898209571838379, y=0.2819245457649231, z=0.005058728624135256, visibility=0.0, presence=0.0), NormalizedLandmark(x=0.4880225360393524, y=0.2812492251396179, z=0.004573503974825144, visibility=0.0, presence=0.0), NormalizedLandmark(x=0.4864897131919861, y=0.28056633472442627, z=0.0037847321946173906, visibility=0.0, presence=0.0), NormalizedLandmark(x=0.47297996282577515, y=0.27671894431114197, z=0.00325393071398139, visibility=0.0, presence=0.0), NormalizedLandmark(x=0.424574613571167, y=0.261258989572525, z=0.016067277640104294, visibility=0.0, presence=0.0), NormalizedLandmark(x=0.5129884481430054, y=0.2119656503200531, z=-0.02958989329636097, visibility=0.0, presence=0.0), NormalizedLandmark(x=0.5044607520103455, y=0.19634854793548584, z=-0.01361809391528368, visibility=0.0, presence=0.0), NormalizedLandmark(x=0.49702489376068115, y=0.1965738832950592, z=-0.009830252267420292, visibility=0.0, presence=0.0), NormalizedLandmark(x=0.4917352795600891, y=0.2827884554862976, z=0.00673084007576108, visibility=0.0, presence=0.0), NormalizedLandmark(x=0.42317622900009155, y=0.2810577154159546, z=0.03956359252333641, visibility=0.0, presence=0.0), NormalizedLandmark(x=0.5155209898948669, y=0.19750824570655823, z=-0.02867255173623562, visibility=0.0, presence=0.0), NormalizedLandmark(x=0.49896180629730225, y=0.3110496401786804, z=0.011231365613639355, visibility=0.0, presence=0.0), NormalizedLandmark(x=0.5347885489463806, y=0.22430843114852905, z=-0.0570489838719368, visibility=0.0, presence=0.0), NormalizedLandmark(x=0.5229964852333069, y=0.21712437272071838, z=-0.04719650000333786, visibility=0.0, presence=0.0), NormalizedLandmark(x=0.533299446105957, y=0.21533915400505066, z=-0.04928920418024063, visibility=0.0, presence=0.0), NormalizedLandmark(x=0.5076646208763123, y=0.23401063680648804, z=-0.03496820479631424, visibility=0.0, presence=0.0), NormalizedLandmark(x=0.5400747060775757, y=0.32469579577445984, z=0.006478995084762573, visibility=0.0, presence=0.0), NormalizedLandmark(x=0.5390574336051941, y=0.31401360034942627, z=0.003949396777898073, visibility=0.0, presence=0.0), NormalizedLandmark(x=0.5189827084541321, y=0.31442174315452576, z=0.005304926075041294, visibility=0.0, presence=0.0), NormalizedLandmark(x=0.46878981590270996, y=0.2957397699356079, z=0.02047124132514, visibility=0.0, presence=0.0), NormalizedLandmark(x=0.4831410050392151, y=0.2544765770435333, z=-0.008680193684995174, visibility=0.0, presence=0.0), NormalizedLandmark(x=0.4829976260662079, y=0.30485987663269043, z=0.01694193109869957, visibility=0.0, presence=0.0), NormalizedLandmark(x=0.4524516463279724, y=0.25392213463783264, z=-0.006484861019998789, visibility=0.0, presence=0.0), NormalizedLandmark(x=0.4707344174385071, y=0.2624209523200989, z=-0.004540146328508854, visibility=0.0, presence=0.0), NormalizedLandmark(x=0.44162482023239136, y=0.2668854594230652, z=0.006269813049584627, visibility=0.0, presence=0.0), NormalizedLandmark(x=0.5166026949882507, y=0.325188547372818, z=0.007974856533110142, visibility=0.0, presence=0.0), NormalizedLandmark(x=0.500492513179779, y=0.2381916344165802, z=-0.025494664907455444, visibility=0.0, presence=0.0), NormalizedLandmark(x=0.45913583040237427, y=0.3038618266582489, z=0.03173685446381569, visibility=0.0, presence=0.0), NormalizedLandmark(x=0.477065771818161, y=0.3129357099533081, z=0.02663229964673519, visibility=0.0, presence=0.0), NormalizedLandmark(x=0.45683565735816956, y=0.28598928451538086, z=0.017825262621045113, visibility=0.0, presence=0.0), NormalizedLandmark(x=0.41150665283203125, y=0.2711854577064514, z=0.0464324951171875, visibility=0.0, presence=0.0), NormalizedLandmark(x=0.44102030992507935, y=0.2890580892562866, z=0.028060518205165863, visibility=0.0, presence=0.0), NormalizedLandmark(x=0.4052737355232239, y=0.2777894139289856, z=0.0751321017742157, visibility=0.0, presence=0.0), NormalizedLandmark(x=0.4596726596355438, y=0.27182725071907043, z=0.0032102898694574833, visibility=0.0, presence=0.0), NormalizedLandmark(x=0.5070041418075562, y=0.22591188549995422, z=-0.028578484430909157, visibility=0.0, presence=0.0), NormalizedLandmark(x=0.5111135244369507, y=0.2515125870704651, z=-0.04887958988547325, visibility=0.0, presence=0.0), NormalizedLandmark(x=0.5033360123634338, y=0.2528277635574341, z=-0.035289011895656586, visibility=0.0, presence=0.0), NormalizedLandmark(x=0.516497790813446, y=0.24648749828338623, z=-0.05800877884030342, visibility=0.0, presence=0.0), NormalizedLandmark(x=0.4944978952407837, y=0.1897752434015274, z=-0.019902685657143593, visibility=0.0, presence=0.0), NormalizedLandmark(x=0.473752498626709, y=0.18438038229942322, z=-0.024637091904878616, visibility=0.0, presence=0.0), NormalizedLandmark(x=0.455532044172287, y=0.18305903673171997, z=-0.025247130542993546, visibility=0.0, presence=0.0), NormalizedLandmark(x=0.44080275297164917, y=0.18492482602596283, z=-0.02132757566869259, visibility=0.0, presence=0.0), NormalizedLandmark(x=0.43094104528427124, y=0.18875989317893982, z=-0.014383938163518906, visibility=0.0, presence=0.0), NormalizedLandmark(x=0.4257323443889618, y=0.20193471014499664, z=0.007005902007222176, visibility=0.0, presence=0.0), NormalizedLandmark(x=0.38984566926956177, y=0.2236981987953186, z=0.06265489012002945, visibility=0.0, presence=0.0), NormalizedLandmark(x=0.43711936473846436, y=0.2135375291109085, z=0.0018236913019791245, visibility=0.0, presence=0.0), NormalizedLandmark(x=0.45030656456947327, y=0.21604862809181213, z=-0.003805059939622879, visibility=0.0, presence=0.0), NormalizedLandmark(x=0.4668049216270447, y=0.21556144952774048, z=-0.007215145975351334, visibility=0.0, presence=0.0), NormalizedLandmark(x=0.4819161295890808, y=0.21325480937957764, z=-0.008208543062210083, visibility=0.0, presence=0.0), NormalizedLandmark(x=0.4932946264743805, y=0.2105095535516739, z=-0.008765415288507938, visibility=0.0, presence=0.0), NormalizedLandmark(x=0.5010163187980652, y=0.20823678374290466, z=-0.009448020718991756, visibility=0.0, presence=0.0), NormalizedLandmark(x=0.3843603730201721, y=0.2222193032503128, z=0.10664352774620056, visibility=0.0, presence=0.0), NormalizedLandmark(x=0.5033189654350281, y=0.25446176528930664, z=-0.028777852654457092, visibility=0.0, presence=0.0), NormalizedLandmark(x=0.5161362290382385, y=0.22917042672634125, z=-0.045220997184515, visibility=0.0, presence=0.0), NormalizedLandmark(x=0.5199154615402222, y=0.25244730710983276, z=-0.05693899467587471, visibility=0.0, presence=0.0), NormalizedLandmark(x=0.5251162648200989, y=0.25589439272880554, z=-0.05042222514748573, visibility=0.0, presence=0.0), NormalizedLandmark(x=0.5192526578903198, y=0.25332069396972656, z=-0.050961803644895554, visibility=0.0, presence=0.0), NormalizedLandmark(x=0.5060444474220276, y=0.2565145194530487, z=-0.023638475686311722, visibility=0.0, presence=0.0), NormalizedLandmark(x=0.5277013182640076, y=0.25684404373168945, z=-0.05313211306929588, visibility=0.0, presence=0.0), NormalizedLandmark(x=0.528540849685669, y=0.25806379318237305, z=-0.03823365271091461, visibility=0.0, presence=0.0), NormalizedLandmark(x=0.5003882646560669, y=0.20205043256282806, z=-0.005893752444535494, visibility=0.0, presence=0.0), NormalizedLandmark(x=0.5067299008369446, y=0.20409615337848663, z=-0.011973376385867596, visibility=0.0, presence=0.0), NormalizedLandmark(x=0.5109357237815857, y=0.20613659918308258, z=-0.019736342132091522, visibility=0.0, presence=0.0), NormalizedLandmark(x=0.44215646386146545, y=0.19697020947933197, z=-0.0044020009227097034, visibility=0.0, presence=0.0), NormalizedLandmark(x=0.43352624773979187, y=0.19449955224990845, z=-0.005022843834012747, visibility=0.0, presence=0.0), NormalizedLandmark(x=0.5438790321350098, y=0.22486761212348938, z=-0.051626056432724, visibility=0.0, presence=0.0), NormalizedLandmark(x=0.6066424250602722, y=0.1947605311870575, z=0.013770361430943012, visibility=0.0, presence=0.0), NormalizedLandmark(x=0.5470993518829346, y=0.2558245360851288, z=-0.037220343947410583, visibility=0.0, presence=0.0), NormalizedLandmark(x=0.6322798728942871, y=0.1604689061641693, z=0.0624057799577713, visibility=0.0, presence=0.0), NormalizedLandmark(x=0.5745140314102173, y=0.2035539299249649, z=0.0004355561686679721, visibility=0.0, presence=0.0), NormalizedLandmark(x=0.5856396555900574, y=0.20395061373710632, z=0.002269519492983818, visibility=0.0, presence=0.0), NormalizedLandmark(x=0.5965962409973145, y=0.20319810509681702, z=0.006268472410738468, visibility=0.0, presence=0.0), NormalizedLandmark(x=0.6098639369010925, y=0.19725114107131958, z=0.01679367944598198, visibility=0.0, presence=0.0), NormalizedLandmark(x=0.5648988485336304, y=0.20252832770347595, z=-6.415127427317202e-05, visibility=0.0, presence=0.0), NormalizedLandmark(x=0.5920675992965698, y=0.18019038438796997, z=-0.0066751171834766865, visibility=0.0, presence=0.0), NormalizedLandmark(x=0.5784061551094055, y=0.18229976296424866, z=-0.008303056471049786, visibility=0.0, presence=0.0), NormalizedLandmark(x=0.6038313508033752, y=0.1809193640947342, z=-0.0015371449990198016, visibility=0.0, presence=0.0), NormalizedLandmark(x=0.6110608577728271, y=0.18355786800384521, z=0.004278743173927069, visibility=0.0, presence=0.0), NormalizedLandmark(x=0.6179074645042419, y=0.20191654562950134, z=0.024587810039520264, visibility=0.0, presence=0.0), NormalizedLandmark(x=0.5797348022460938, y=0.31503042578697205, z=0.02435898780822754, visibility=0.0, presence=0.0), NormalizedLandmark(x=0.6102219820022583, y=0.1917285919189453, z=0.01740746758878231, visibility=0.0, presence=0.0), NormalizedLandmark(x=0.6413192749023438, y=0.19560518860816956, z=0.07916319370269775, visibility=0.0, presence=0.0), NormalizedLandmark(x=0.6287115812301636, y=0.19566422700881958, z=0.03584330528974533, visibility=0.0, presence=0.0), NormalizedLandmark(x=0.5880781412124634, y=0.23847414553165436, z=-0.0020889220759272575, visibility=0.0, presence=0.0), NormalizedLandmark(x=0.5503464937210083, y=0.2745896577835083, z=-0.020129401236772537, visibility=0.0, presence=0.0), NormalizedLandmark(x=0.5493528842926025, y=0.2807934582233429, z=-0.012439706362783909, visibility=0.0, presence=0.0), NormalizedLandmark(x=0.5626505613327026, y=0.27482160925865173, z=-0.010779671370983124, visibility=0.0, presence=0.0), NormalizedLandmark(x=0.5718340873718262, y=0.2751067578792572, z=0.0005532025825232267, visibility=0.0, presence=0.0), NormalizedLandmark(x=0.5598157644271851, y=0.27953648567199707, z=-0.005999312736093998, visibility=0.0, presence=0.0), NormalizedLandmark(x=0.5684627294540405, y=0.2780601978302002, z=0.004033766221255064, visibility=0.0, presence=0.0), NormalizedLandmark(x=0.5871009826660156, y=0.2843160629272461, z=0.023867174983024597, visibility=0.0, presence=0.0), NormalizedLandmark(x=0.5466983318328857, y=0.2529190480709076, z=-0.060150641947984695, visibility=0.0, presence=0.0), NormalizedLandmark(x=0.5478204488754272, y=0.24490708112716675, z=-0.0654570683836937, visibility=0.0, presence=0.0), NormalizedLandmark(x=0.624226987361908, y=0.17726311087608337, z=0.005333854351192713, visibility=0.0, presence=0.0), NormalizedLandmark(x=0.5626457333564758, y=0.21937699615955353, z=-0.011082611978054047, visibility=0.0, presence=0.0), NormalizedLandmark(x=0.5676952600479126, y=0.24668224155902863, z=-0.028521036729216576, visibility=0.0, presence=0.0), NormalizedLandmark(x=0.5671221613883972, y=0.24193860590457916, z=-0.0257132388651371, visibility=0.0, presence=0.0), NormalizedLandmark(x=0.6206123232841492, y=0.23434233665466309, z=0.016159992665052414, visibility=0.0, presence=0.0), NormalizedLandmark(x=0.5456446409225464, y=0.23403863608837128, z=-0.06062396988272667, visibility=0.0, presence=0.0), NormalizedLandmark(x=0.6006622910499573, y=0.17270605266094208, z=-0.020647156983613968, visibility=0.0, presence=0.0), NormalizedLandmark(x=0.615149974822998, y=0.1732511818408966, z=-0.009321315214037895, visibility=0.0, presence=0.0), NormalizedLandmark(x=0.6233309507369995, y=0.14761894941329956, z=0.03366054594516754, visibility=0.0, presence=0.0), NormalizedLandmark(x=0.5534031391143799, y=0.1853826940059662, z=-0.03378062695264816, visibility=0.0, presence=0.0), NormalizedLandmark(x=0.5670596361160278, y=0.18663924932479858, z=-0.005096180830150843, visibility=0.0, presence=0.0), NormalizedLandmark(x=0.5961361527442932, y=0.2756114602088928, z=0.025542734190821648, visibility=0.0, presence=0.0), NormalizedLandmark(x=0.6364133358001709, y=0.2713592052459717, z=0.13251414895057678, visibility=0.0, presence=0.0), NormalizedLandmark(x=0.5599294900894165, y=0.251842737197876, z=-0.023652369156479836, visibility=0.0, presence=0.0), NormalizedLandmark(x=0.5523132681846619, y=0.2547374963760376, z=-0.025283116847276688, visibility=0.0, presence=0.0), NormalizedLandmark(x=0.5844922661781311, y=0.2751312255859375, z=0.024546271190047264, visibility=0.0, presence=0.0), NormalizedLandmark(x=0.5819371342658997, y=0.27574965357780457, z=0.020899176597595215, visibility=0.0, presence=0.0), NormalizedLandmark(x=0.6190959811210632, y=0.1677619367837906, z=-0.004528503865003586, visibility=0.0, presence=0.0), NormalizedLandmark(x=0.5677036046981812, y=0.2494354546070099, z=-0.021071096882224083, visibility=0.0, presence=0.0), NormalizedLandmark(x=0.5805198550224304, y=0.17662441730499268, z=-0.029149353504180908, visibility=0.0, presence=0.0), NormalizedLandmark(x=0.5821998119354248, y=0.1701178252696991, z=-0.03359094262123108, visibility=0.0, presence=0.0), NormalizedLandmark(x=0.5851690769195557, y=0.13269920647144318, z=-0.02158530056476593, visibility=0.0, presence=0.0), NormalizedLandmark(x=0.6200481057167053, y=0.15752193331718445, z=0.011714281514286995, visibility=0.0, presence=0.0), NormalizedLandmark(x=0.5820392370223999, y=0.15013614296913147, z=-0.028646493330597878, visibility=0.0, presence=0.0), NormalizedLandmark(x=0.6283770799636841, y=0.1730574071407318, z=0.0148989949375391, visibility=0.0, presence=0.0), NormalizedLandmark(x=0.6298434734344482, y=0.16746096312999725, z=0.037223219871520996, visibility=0.0, presence=0.0), NormalizedLandmark(x=0.5502606630325317, y=0.2779960632324219, z=-0.017357463017106056, visibility=0.0, presence=0.0), NormalizedLandmark(x=0.561329185962677, y=0.2772368788719177, z=-0.008636051788926125, visibility=0.0, presence=0.0), NormalizedLandmark(x=0.5702774524688721, y=0.2765548825263977, z=0.001433229073882103, visibility=0.0, presence=0.0), NormalizedLandmark(x=0.5577909350395203, y=0.2531720697879791, z=-0.021597417071461678, visibility=0.0, presence=0.0), NormalizedLandmark(x=0.5835225582122803, y=0.2753973603248596, z=0.02252957411110401, visibility=0.0, presence=0.0), NormalizedLandmark(x=0.5778409242630005, y=0.27876007556915283, z=0.014935817569494247, visibility=0.0, presence=0.0), NormalizedLandmark(x=0.5807327032089233, y=0.27620774507522583, z=0.020335204899311066, visibility=0.0, presence=0.0), NormalizedLandmark(x=0.5565649271011353, y=0.2505146563053131, z=-0.041482310742139816, visibility=0.0, presence=0.0), NormalizedLandmark(x=0.5668818354606628, y=0.279339462518692, z=0.006126317195594311, visibility=0.0, presence=0.0), NormalizedLandmark(x=0.5584221482276917, y=0.2809257507324219, z=-0.0008688862435519695, visibility=0.0, presence=0.0), NormalizedLandmark(x=0.5482447147369385, y=0.2826864421367645, z=-0.0068407184444367886, visibility=0.0, presence=0.0), NormalizedLandmark(x=0.5527724027633667, y=0.302491694688797, z=0.0035065454430878162, visibility=0.0, presence=0.0), NormalizedLandmark(x=0.5513128638267517, y=0.2937684655189514, z=-0.008279661647975445, visibility=0.0, presence=0.0), NormalizedLandmark(x=0.5508099794387817, y=0.2895320653915405, z=-0.00992667581886053, visibility=0.0, presence=0.0), NormalizedLandmark(x=0.5498718619346619, y=0.2855816185474396, z=-0.0077515942975878716, visibility=0.0, presence=0.0), NormalizedLandmark(x=0.5482286810874939, y=0.28277578949928284, z=-0.006550163961946964, visibility=0.0, presence=0.0), NormalizedLandmark(x=0.5671952962875366, y=0.2793584167957306, z=0.006513251923024654, visibility=0.0, presence=0.0), NormalizedLandmark(x=0.5694020986557007, y=0.2804037928581238, z=0.005095622036606073, visibility=0.0, presence=0.0), NormalizedLandmark(x=0.5714268088340759, y=0.28233277797698975, z=0.004395950585603714, visibility=0.0, presence=0.0), NormalizedLandmark(x=0.5730171203613281, y=0.2843717634677887, z=0.007402745541185141, visibility=0.0, presence=0.0), NormalizedLandmark(x=0.5826143026351929, y=0.2665911912918091, z=0.0024847998283803463, visibility=0.0, presence=0.0), NormalizedLandmark(x=0.6418537497520447, y=0.23012736439704895, z=0.1386086344718933, visibility=0.0, presence=0.0), NormalizedLandmark(x=0.5735127925872803, y=0.27799364924430847, z=0.014737035147845745, visibility=0.0, presence=0.0), NormalizedLandmark(x=0.5755580067634583, y=0.27838099002838135, z=0.01413655187934637, visibility=0.0, presence=0.0), NormalizedLandmark(x=0.5495761036872864, y=0.25804051756858826, z=-0.02431381493806839, visibility=0.0, presence=0.0), NormalizedLandmark(x=0.5642415881156921, y=0.2538384795188904, z=-0.011631328612565994, visibility=0.0, presence=0.0), NormalizedLandmark(x=0.5509192943572998, y=0.256663978099823, z=-0.02531909942626953, visibility=0.0, presence=0.0), NormalizedLandmark(x=0.574158787727356, y=0.2228448987007141, z=-0.004390546586364508, visibility=0.0, presence=0.0), NormalizedLandmark(x=0.5937447547912598, y=0.22701409459114075, z=0.001621339237317443, visibility=0.0, presence=0.0), NormalizedLandmark(x=0.5689547657966614, y=0.24478378891944885, z=-0.01790040358901024, visibility=0.0, presence=0.0), NormalizedLandmark(x=0.6087619066238403, y=0.13815495371818542, z=0.004398570861667395, visibility=0.0, presence=0.0), NormalizedLandmark(x=0.6050388216972351, y=0.15142211318016052, z=-0.009528533555567265, visibility=0.0, presence=0.0), NormalizedLandmark(x=0.6033884286880493, y=0.1662532091140747, z=-0.020127808675169945, visibility=0.0, presence=0.0), NormalizedLandmark(x=0.5783748030662537, y=0.29131340980529785, z=0.01732545904815197, visibility=0.0, presence=0.0), NormalizedLandmark(x=0.5568147301673889, y=0.175370454788208, z=-0.04140596464276314, visibility=0.0, presence=0.0), NormalizedLandmark(x=0.5564517974853516, y=0.1510213315486908, z=-0.04051096737384796, visibility=0.0, presence=0.0), NormalizedLandmark(x=0.5575238466262817, y=0.1305476874113083, z=-0.037954822182655334, visibility=0.0, presence=0.0), NormalizedLandmark(x=0.6054343581199646, y=0.20089153945446014, z=0.011932655237615108, visibility=0.0, presence=0.0), NormalizedLandmark(x=0.6288002133369446, y=0.2070399522781372, z=0.033810537308454514, visibility=0.0, presence=0.0), NormalizedLandmark(x=0.5592488050460815, y=0.20130890607833862, z=0.0005133794038556516, visibility=0.0, presence=0.0), NormalizedLandmark(x=0.6198685169219971, y=0.1866714507341385, z=0.015359871089458466, visibility=0.0, presence=0.0), NormalizedLandmark(x=0.5550965666770935, y=0.21508388221263885, z=-0.017429392784833908, visibility=0.0, presence=0.0), NormalizedLandmark(x=0.5626078844070435, y=0.24516788125038147, z=-0.04173516482114792, visibility=0.0, presence=0.0), NormalizedLandmark(x=0.6389032602310181, y=0.2120378315448761, z=0.049902014434337616, visibility=0.0, presence=0.0), NormalizedLandmark(x=0.623076856136322, y=0.21347695589065552, z=0.024081358686089516, visibility=0.0, presence=0.0), NormalizedLandmark(x=0.6105234026908875, y=0.2177698314189911, z=0.012573798187077045, visibility=0.0, presence=0.0), NormalizedLandmark(x=0.5898252725601196, y=0.21770727634429932, z=0.004725456703454256, visibility=0.0, presence=0.0), NormalizedLandmark(x=0.5738206505775452, y=0.21535521745681763, z=-0.00012761051766574383, visibility=0.0, presence=0.0), NormalizedLandmark(x=0.56246018409729, y=0.21267670392990112, z=-0.0058011217042803764, visibility=0.0, presence=0.0), NormalizedLandmark(x=0.5421246290206909, y=0.20675653219223022, z=-0.03556852042675018, visibility=0.0, presence=0.0), NormalizedLandmark(x=0.6399550437927246, y=0.2291129231452942, z=0.05124972388148308, visibility=0.0, presence=0.0), NormalizedLandmark(x=0.6267567873001099, y=0.18553948402404785, z=0.020980805158615112, visibility=0.0, presence=0.0), NormalizedLandmark(x=0.5428508520126343, y=0.2566524147987366, z=-0.05353322997689247, visibility=0.0, presence=0.0), NormalizedLandmark(x=0.5625815391540527, y=0.2282375544309616, z=-0.013758035376667976, visibility=0.0, presence=0.0), NormalizedLandmark(x=0.6405660510063171, y=0.19358523190021515, z=0.1183817982673645, visibility=0.0, presence=0.0), NormalizedLandmark(x=0.5544204711914062, y=0.20955120027065277, z=-0.009784402325749397, visibility=0.0, presence=0.0), NormalizedLandmark(x=0.5693750977516174, y=0.24444182217121124, z=-0.005527441389858723, visibility=0.0, presence=0.0), NormalizedLandmark(x=0.614153265953064, y=0.19198381900787354, z=0.020222263410687447, visibility=0.0, presence=0.0), NormalizedLandmark(x=0.5615972280502319, y=0.23928458988666534, z=-0.03838381543755531, visibility=0.0, presence=0.0), NormalizedLandmark(x=0.6404322385787964, y=0.2501711845397949, z=0.13872885704040527, visibility=0.0, presence=0.0), NormalizedLandmark(x=0.5587876439094543, y=0.19854070246219635, z=0.0028224997222423553, visibility=0.0, presence=0.0), NormalizedLandmark(x=0.5542840361595154, y=0.2358219176530838, z=-0.05186263844370842, visibility=0.0, presence=0.0), NormalizedLandmark(x=0.6225208044052124, y=0.2931522727012634, z=0.07102491706609726, visibility=0.0, presence=0.0), NormalizedLandmark(x=0.6191887855529785, y=0.30193403363227844, z=0.0949002131819725, visibility=0.0, presence=0.0), NormalizedLandmark(x=0.6449484825134277, y=0.22991156578063965, z=0.09557394683361053, visibility=0.0, presence=0.0), NormalizedLandmark(x=0.6337311863899231, y=0.28134334087371826, z=0.0845985934138298, visibility=0.0, presence=0.0), NormalizedLandmark(x=0.6356495022773743, y=0.18018457293510437, z=0.061246853321790695, visibility=0.0, presence=0.0), NormalizedLandmark(x=0.5818702578544617, y=0.32303711771965027, z=0.033651262521743774, visibility=0.0, presence=0.0), NormalizedLandmark(x=0.5412983298301697, y=0.25836730003356934, z=-0.03692227974534035, visibility=0.0, presence=0.0), NormalizedLandmark(x=0.5727749466896057, y=0.23309165239334106, z=-0.006998321507126093, visibility=0.0, presence=0.0), NormalizedLandmark(x=0.6356174945831299, y=0.1961071938276291, z=0.048933859914541245, visibility=0.0, presence=0.0), NormalizedLandmark(x=0.5959010124206543, y=0.19847647845745087, z=0.006379034370183945, visibility=0.0, presence=0.0), NormalizedLandmark(x=0.5862699151039124, y=0.19928620755672455, z=0.0027574608102440834, visibility=0.0, presence=0.0), NormalizedLandmark(x=0.5794288516044617, y=0.27950000762939453, z=0.017613112926483154, visibility=0.0, presence=0.0), NormalizedLandmark(x=0.640132486820221, y=0.24551773071289062, z=0.059576306492090225, visibility=0.0, presence=0.0), NormalizedLandmark(x=0.5620440244674683, y=0.3346291780471802, z=0.037335436791181564, visibility=0.0, presence=0.0), NormalizedLandmark(x=0.5917645692825317, y=0.3219442069530487, z=0.0631207600235939, visibility=0.0, presence=0.0), NormalizedLandmark(x=0.6044790148735046, y=0.31366419792175293, z=0.07741507142782211, visibility=0.0, presence=0.0), NormalizedLandmark(x=0.5761971473693848, y=0.19895999133586884, z=0.0011146410834044218, visibility=0.0, presence=0.0), NormalizedLandmark(x=0.5672665238380432, y=0.19854523241519928, z=0.0015960398595780134, visibility=0.0, presence=0.0), NormalizedLandmark(x=0.561421811580658, y=0.19862790405750275, z=0.00309450994245708, visibility=0.0, presence=0.0), NormalizedLandmark(x=0.6323407292366028, y=0.18312780559062958, z=0.03306947275996208, visibility=0.0, presence=0.0), NormalizedLandmark(x=0.5690796971321106, y=0.1910635530948639, z=-0.0014291827101260424, visibility=0.0, presence=0.0), NormalizedLandmark(x=0.578955352306366, y=0.1873479187488556, z=-0.0030455414671450853, visibility=0.0, presence=0.0), NormalizedLandmark(x=0.5896366238594055, y=0.18614695966243744, z=-0.0016872752457857132, visibility=0.0, presence=0.0), NormalizedLandmark(x=0.5992482900619507, y=0.18692420423030853, z=0.0023774157743901014, visibility=0.0, presence=0.0), NormalizedLandmark(x=0.6051924228668213, y=0.1888566017150879, z=0.007143749389797449, visibility=0.0, presence=0.0), NormalizedLandmark(x=0.63747239112854, y=0.17507165670394897, z=0.09280280768871307, visibility=0.0, presence=0.0), NormalizedLandmark(x=0.6024141311645508, y=0.1968494951725006, z=0.010509362444281578, visibility=0.0, presence=0.0), NormalizedLandmark(x=0.5704599618911743, y=0.264288067817688, z=-0.007244637235999107, visibility=0.0, presence=0.0), NormalizedLandmark(x=0.5601484775543213, y=0.2508715093135834, z=-0.029146673157811165, visibility=0.0, presence=0.0), NormalizedLandmark(x=0.5510159134864807, y=0.26468920707702637, z=-0.021298188716173172, visibility=0.0, presence=0.0), NormalizedLandmark(x=0.6082203984260559, y=0.30447715520858765, z=0.06029590219259262, visibility=0.0, presence=0.0), NormalizedLandmark(x=0.5955010056495667, y=0.3138737678527832, z=0.047924917191267014, visibility=0.0, presence=0.0), NormalizedLandmark(x=0.5633183121681213, y=0.3299291729927063, z=0.020590579137206078, visibility=0.0, presence=0.0), NormalizedLandmark(x=0.6291747689247131, y=0.28886425495147705, z=0.11547009646892548, visibility=0.0, presence=0.0), NormalizedLandmark(x=0.5620902180671692, y=0.19558396935462952, z=0.0008332861470989883, visibility=0.0, presence=0.0), NormalizedLandmark(x=0.5499414205551147, y=0.21947473287582397, z=-0.03441347926855087, visibility=0.0, presence=0.0), NormalizedLandmark(x=0.5784122943878174, y=0.32914599776268005, z=0.04810303822159767, visibility=0.0, presence=0.0), NormalizedLandmark(x=0.6433333158493042, y=0.24821902811527252, z=0.09840137511491776, visibility=0.0, presence=0.0), NormalizedLandmark(x=0.5587946176528931, y=0.280933678150177, z=-0.0005255892756395042, visibility=0.0, presence=0.0), NormalizedLandmark(x=0.5607737302780151, y=0.2831650972366333, z=-0.00198601302690804, visibility=0.0, presence=0.0), NormalizedLandmark(x=0.5626025795936584, y=0.2862001359462738, z=-0.003022329416126013, visibility=0.0, presence=0.0), NormalizedLandmark(x=0.5636075139045715, y=0.28973066806793213, z=-0.0005584743921644986, visibility=0.0, presence=0.0), NormalizedLandmark(x=0.5674648284912109, y=0.29782572388648987, z=0.009577308781445026, visibility=0.0, presence=0.0), NormalizedLandmark(x=0.5755137801170349, y=0.2770282030105591, z=0.012974642217159271, visibility=0.0, presence=0.0), NormalizedLandmark(x=0.5770619511604309, y=0.27593621611595154, z=0.013199437409639359, visibility=0.0, presence=0.0), NormalizedLandmark(x=0.5785341262817383, y=0.2752271294593811, z=0.012950333766639233, visibility=0.0, presence=0.0), NormalizedLandmark(x=0.5921080112457275, y=0.27045246958732605, z=0.014024985954165459, visibility=0.0, presence=0.0), NormalizedLandmark(x=0.6302608847618103, y=0.2510712742805481, z=0.03444249927997589, visibility=0.0, presence=0.0), NormalizedLandmark(x=0.5483612418174744, y=0.21038004755973816, z=-0.025693507865071297, visibility=0.0, presence=0.0), NormalizedLandmark(x=0.5518369674682617, y=0.19428226351737976, z=-0.008621348068118095, visibility=0.0, presence=0.0), NormalizedLandmark(x=0.5578891634941101, y=0.19391995668411255, z=-0.002796906279399991, visibility=0.0, presence=0.0), NormalizedLandmark(x=0.5732196569442749, y=0.2779485881328583, z=0.014365033246576786, visibility=0.0, presence=0.0), NormalizedLandmark(x=0.6317000389099121, y=0.2700956463813782, z=0.05802953243255615, visibility=0.0, presence=0.0), NormalizedLandmark(x=0.5437572598457336, y=0.19637687504291534, z=-0.02572672814130783, visibility=0.0, presence=0.0), NormalizedLandmark(x=0.5741075873374939, y=0.3063376247882843, z=0.01738525740802288, visibility=0.0, presence=0.0), NormalizedLandmark(x=0.54314786195755, y=0.2162628024816513, z=-0.04520680010318756, visibility=0.0, presence=0.0), NormalizedLandmark(x=0.5576311945915222, y=0.2316237986087799, z=-0.029851047322154045, visibility=0.0, presence=0.0), NormalizedLandmark(x=0.5574181079864502, y=0.31216055154800415, z=0.008152743801474571, visibility=0.0, presence=0.0), NormalizedLandmark(x=0.5969887375831604, y=0.2883645296096802, z=0.03148553520441055, visibility=0.0, presence=0.0), NormalizedLandmark(x=0.5798962116241455, y=0.24962939321994781, z=-0.00023771353880874813, visibility=0.0, presence=0.0), NormalizedLandmark(x=0.5863533616065979, y=0.29841348528862, z=0.02555224858224392, visibility=0.0, presence=0.0), NormalizedLandmark(x=0.607984721660614, y=0.24644416570663452, z=0.006593776401132345, visibility=0.0, presence=0.0), NormalizedLandmark(x=0.5929974317550659, y=0.25623056292533875, z=0.005920005030930042, visibility=0.0, presence=0.0), NormalizedLandmark(x=0.6180238127708435, y=0.25789162516593933, z=0.02116839960217476, visibility=0.0, presence=0.0), NormalizedLandmark(x=0.5620200037956238, y=0.32231268286705017, z=0.011886054649949074, visibility=0.0, presence=0.0), NormalizedLandmark(x=0.5628666281700134, y=0.2352324277162552, z=-0.019386064261198044, visibility=0.0, presence=0.0), NormalizedLandmark(x=0.6055549383163452, y=0.2950682044029236, z=0.044404953718185425, visibility=0.0, presence=0.0), NormalizedLandmark(x=0.5927817225456238, y=0.30555304884910583, z=0.03627900034189224, visibility=0.0, presence=0.0), NormalizedLandmark(x=0.6062082052230835, y=0.2775864601135254, z=0.031121136620640755, visibility=0.0, presence=0.0), NormalizedLandmark(x=0.6386557221412659, y=0.2595125734806061, z=0.0672629252076149, visibility=0.0, presence=0.0), NormalizedLandmark(x=0.6193896532058716, y=0.27920740842819214, z=0.04346519708633423, visibility=0.0, presence=0.0), NormalizedLandmark(x=0.640476644039154, y=0.26543670892715454, z=0.0977785661816597, visibility=0.0, presence=0.0), NormalizedLandmark(x=0.6031801700592041, y=0.26447340846061707, z=0.015523525886237621, visibility=0.0, presence=0.0), NormalizedLandmark(x=0.5559628009796143, y=0.22365064918994904, z=-0.0233172457665205, visibility=0.0, presence=0.0), NormalizedLandmark(x=0.5594791173934937, y=0.24904854595661163, z=-0.044095225632190704, visibility=0.0, presence=0.0), NormalizedLandmark(x=0.5646820664405823, y=0.2498665452003479, z=-0.029795844107866287, visibility=0.0, presence=0.0), NormalizedLandmark(x=0.5559345483779907, y=0.2445540875196457, z=-0.05431799963116646, visibility=0.0, presence=0.0), NormalizedLandmark(x=0.5606908202171326, y=0.18710851669311523, z=-0.013123024255037308, visibility=0.0, presence=0.0), NormalizedLandmark(x=0.5791556239128113, y=0.18043425679206848, z=-0.01495386566966772, visibility=0.0, presence=0.0), NormalizedLandmark(x=0.5955464839935303, y=0.17797699570655823, z=-0.012529033236205578, visibility=0.0, presence=0.0), NormalizedLandmark(x=0.6085436344146729, y=0.17847827076911926, z=-0.0058233668096363544, visibility=0.0, presence=0.0), NormalizedLandmark(x=0.6167100667953491, y=0.18112698197364807, z=0.0030774855986237526, visibility=0.0, presence=0.0), NormalizedLandmark(x=0.6201139092445374, y=0.19385214149951935, z=0.02583438903093338, visibility=0.0, presence=0.0), NormalizedLandmark(x=0.6443865299224854, y=0.21269306540489197, z=0.08837898820638657, visibility=0.0, presence=0.0), NormalizedLandmark(x=0.6128888130187988, y=0.20606888830661774, z=0.019012995064258575, visibility=0.0, presence=0.0), NormalizedLandmark(x=0.6018471717834473, y=0.20939470827579498, z=0.011082441546022892, visibility=0.0, presence=0.0), NormalizedLandmark(x=0.5873813033103943, y=0.21015532314777374, z=0.004983941558748484, visibility=0.0, presence=0.0), NormalizedLandmark(x=0.5733607411384583, y=0.20895802974700928, z=0.0014342456124722958, visibility=0.0, presence=0.0), NormalizedLandmark(x=0.5630243420600891, y=0.20721103250980377, z=-0.0014337196480482817, visibility=0.0, presence=0.0), NormalizedLandmark(x=0.5557476282119751, y=0.20566801726818085, z=-0.003450133139267564, visibility=0.0, presence=0.0), NormalizedLandmark(x=0.6415585279464722, y=0.21142584085464478, z=0.13252036273479462, visibility=0.0, presence=0.0), NormalizedLandmark(x=0.5640440583229065, y=0.25134027004241943, z=-0.023487737402319908, visibility=0.0, presence=0.0), NormalizedLandmark(x=0.5513627529144287, y=0.22745037078857422, z=-0.041348300874233246, visibility=0.0, presence=0.0), NormalizedLandmark(x=0.5534701943397522, y=0.2506054639816284, z=-0.05401671677827835, visibility=0.0, presence=0.0), NormalizedLandmark(x=0.5480598211288452, y=0.2544979155063629, z=-0.048633430153131485, visibility=0.0, presence=0.0), NormalizedLandmark(x=0.5529749989509583, y=0.25155961513519287, z=-0.04788566380739212, visibility=0.0, presence=0.0), NormalizedLandmark(x=0.5614474415779114, y=0.25367021560668945, z=-0.019139017909765244, visibility=0.0, presence=0.0), NormalizedLandmark(x=0.5462022423744202, y=0.25568893551826477, z=-0.05176195129752159, visibility=0.0, presence=0.0), NormalizedLandmark(x=0.5447295904159546, y=0.2573694884777069, z=-0.037038568407297134, visibility=0.0, presence=0.0), NormalizedLandmark(x=0.5554235577583313, y=0.19939547777175903, z=0.00044218773837201297, visibility=0.0, presence=0.0), NormalizedLandmark(x=0.5505074262619019, y=0.20207223296165466, z=-0.007209628354758024, visibility=0.0, presence=0.0), NormalizedLandmark(x=0.5482504367828369, y=0.20449303090572357, z=-0.015897996723651886, visibility=0.0, presence=0.0), NormalizedLandmark(x=0.6081790328025818, y=0.1904384195804596, z=0.011706969700753689, visibility=0.0, presence=0.0), NormalizedLandmark(x=0.6151171922683716, y=0.1870785355567932, z=0.012165081687271595, visibility=0.0, presence=0.0), NormalizedLandmark(x=0.46388718485832214, y=0.19668461382389069, z=-0.0004486987891141325, visibility=0.0, presence=0.0), NormalizedLandmark(x=0.47599077224731445, y=0.19622814655303955, z=-0.00045116577530279756, visibility=0.0, presence=0.0), NormalizedLandmark(x=0.46336910128593445, y=0.18925419449806213, z=-0.0004404859209898859, visibility=0.0, presence=0.0), NormalizedLandmark(x=0.45162224769592285, y=0.19712816178798676, z=-0.0004489549028221518, visibility=0.0, presence=0.0), NormalizedLandmark(x=0.46440088748931885, y=0.20448161661624908, z=-0.0004521872033365071, visibility=0.0, presence=0.0), NormalizedLandmark(x=0.586495041847229, y=0.19171753525733948, z=-0.000186823308467865, visibility=0.0, presence=0.0), NormalizedLandmark(x=0.5983904600143433, y=0.19113540649414062, z=-0.0002392327442066744, visibility=0.0, presence=0.0), NormalizedLandmark(x=0.5857519507408142, y=0.18440848588943481, z=-0.00023810271522961557, visibility=0.0, presence=0.0), NormalizedLandmark(x=0.5744869709014893, y=0.19218707084655762, z=-0.00025095019373111427, visibility=0.0, presence=0.0), NormalizedLandmark(x=0.5868708491325378, y=0.19919362664222717, z=-0.0002487502933945507, visibility=0.0, presence=0.0)]], face_blendshapes=[], facial_transformation_matrixes=[])"
      ]
     },
     "execution_count": 7,
     "metadata": {},
     "output_type": "execute_result"
    }
   ],
   "source": [
    "face_landmarker_result = detector.detect(mp_image)\n",
    "face_landmarker_result"
   ]
  },
  {
   "cell_type": "code",
   "execution_count": 8,
   "metadata": {},
   "outputs": [],
   "source": [
    "from mediapipe import solutions\n",
    "from mediapipe.framework.formats import landmark_pb2\n",
    "import numpy as np\n",
    "import matplotlib.pyplot as plt"
   ]
  },
  {
   "cell_type": "code",
   "execution_count": 9,
   "metadata": {},
   "outputs": [],
   "source": [
    "def draw_landmarks_on_image(rgb_image, detection_result):\n",
    "    face_landmarks_list = detection_result.face_landmarks\n",
    "    annotated_image = np.copy(rgb_image)\n",
    "\n",
    "    # Loop through the detected faces to visualize\n",
    "    for idx in range(len(face_landmarks_list)):\n",
    "        face_landmarks = face_landmarks_list[idx]\n",
    "        face_landmarks_proto = landmark_pb2.NormalizedLandmarkList()\n",
    "\n",
    "        face_landmarks_proto.landmark.extend(\n",
    "            [\n",
    "                landmark_pb2.NormalizedLandmark(\n",
    "                    x=landmark.x,\n",
    "                    y=landmark.y,\n",
    "                    z=landmark.z,\n",
    "                ) for landmark in face_landmarks\n",
    "            ]\n",
    "        )\n",
    "        solutions.drawing_utils.draw_landmarks(  # x coord maybe...\n",
    "            image=annotated_image,\n",
    "            landmark_list=face_landmarks_proto,\n",
    "            connections=mp.solutions.face_mesh.FACEMESH_TESSELATION,\n",
    "            landmark_drawing_spec=None,\n",
    "            connection_drawing_spec=mp.solutions.drawing_styles\\\n",
    "            .get_default_face_mesh_tesselation_style()\n",
    "        )\n",
    "        solutions.drawing_utils.draw_landmarks(  # y coord\n",
    "            image=annotated_image,\n",
    "            landmark_list=face_landmarks_proto,\n",
    "            connections=mp.solutions.face_mesh.FACEMESH_TESSELATION,\n",
    "            landmark_drawing_spec=None,\n",
    "            connection_drawing_spec=mp.solutions.drawing_styles\\\n",
    "            .get_default_face_mesh_tesselation_style()\n",
    "        )\n",
    "        solutions.drawing_utils.draw_landmarks(  # y coord\n",
    "            image=annotated_image,\n",
    "            landmark_list=face_landmarks_proto,\n",
    "            connections=mp.solutions.face_mesh.FACEMESH_TESSELATION,\n",
    "            landmark_drawing_spec=None,\n",
    "            connection_drawing_spec=mp.solutions.drawing_styles\\\n",
    "            .get_default_face_mesh_tesselation_style()\n",
    "        )\n",
    "\n",
    "    return annotated_image"
   ]
  },
  {
   "cell_type": "code",
   "execution_count": 10,
   "metadata": {},
   "outputs": [],
   "source": [
    "def plot_face_blendshapes_bar_graph(face_blendshapes):\n",
    "    # Extract the face blendshapes category names ans scores\n",
    "    face_blendshapes_names = [\n",
    "        face_blendshapes_category.category_name\n",
    "        for face_blendshapes_category in face_blendshapes\n",
    "    ]\n",
    "    face_blendshapes_scores = [\n",
    "        face_blendshapes_category.core\n",
    "        for face_blendshapes_category in face_blendshapes\n",
    "    ]\n",
    "    face_blendshapes_ranks = range(len(face_blendshapes_names))\n",
    "    fig, ax = plt.subplots(figsize=(12, 12))\n",
    "    bar = ax.barh(\n",
    "        face_blendshapes_ranks,\n",
    "        face_blendshapes_scores,\n",
    "        label=[\n",
    "            str(x) for x in face_blendshapes_ranks\n",
    "        ]\n",
    "    )\n",
    "\n",
    "    ax.set_ytics(face_blendshapes_ranks, face_blendshapes_names)\n",
    "    ax.invert_yaxis()\n",
    "\n",
    "    # Label each bar with values\n",
    "    for score, patch in zip(face_blendshapes_scores, bar.patches):\n",
    "        plt.text(\n",
    "            patch.get_x() + patch.get_width(),\n",
    "            patch.get_y(),\n",
    "            f'{score:.4f}',\n",
    "            va='top'\n",
    "        )\n",
    "    ax.set_xlabel('Score')\n",
    "    ax.set_title('Face Blendshapes')\n",
    "    plt.tight_layout()\n",
    "    plt.show()"
   ]
  },
  {
   "cell_type": "code",
   "execution_count": 11,
   "metadata": {},
   "outputs": [],
   "source": [
    "import cv2\n",
    "from cv2 import imshow"
   ]
  },
  {
   "cell_type": "markdown",
   "metadata": {},
   "source": [
    "The problem is that the image box is using the same Python process as the kernel. When you execute this from an interactive shell, the shell waits for you to get back from the image display box. But Jupyter wants to claim control back after you executed a command block. Therefore it is not happy to wait for the window, and you lose control of the Python process, crashing everything."
   ]
  },
  {
   "cell_type": "code",
   "execution_count": 12,
   "metadata": {},
   "outputs": [
    {
     "data": {
      "text/plain": [
       "109"
      ]
     },
     "execution_count": 12,
     "metadata": {},
     "output_type": "execute_result"
    },
    {
     "ename": "",
     "evalue": "",
     "output_type": "error",
     "traceback": [
      "\u001b[1;31mThe Kernel crashed while executing code in the the current cell or a previous cell. Please review the code in the cell(s) to identify a possible cause of the failure. Click <a href='https://aka.ms/vscodeJupyterKernelCrash'>here</a> for more info. View Jupyter <a href='command:jupyter.viewOutput'>log</a> for further details."
     ]
    }
   ],
   "source": [
    "annotated_image = draw_landmarks_on_image(\n",
    "    mp_image.numpy_view(), face_landmarker_result)\n",
    "imshow('', cv2.cvtColor(annotated_image, cv2.COLOR_RGB2BGR))\n",
    "cv2.waitKey(0)"
   ]
  },
  {
   "cell_type": "code",
   "execution_count": null,
   "metadata": {},
   "outputs": [],
   "source": []
  }
 ],
 "metadata": {
  "kernelspec": {
   "display_name": "psrs",
   "language": "python",
   "name": "python3"
  },
  "language_info": {
   "codemirror_mode": {
    "name": "ipython",
    "version": 3
   },
   "file_extension": ".py",
   "mimetype": "text/x-python",
   "name": "python",
   "nbconvert_exporter": "python",
   "pygments_lexer": "ipython3",
   "version": "3.9.18"
  }
 },
 "nbformat": 4,
 "nbformat_minor": 2
}
